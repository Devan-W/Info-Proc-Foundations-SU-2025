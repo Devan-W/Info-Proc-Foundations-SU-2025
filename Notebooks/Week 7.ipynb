{
  "nbformat": 4,
  "nbformat_minor": 0,
  "metadata": {
    "colab": {
      "provenance": []
    },
    "kernelspec": {
      "name": "python3",
      "display_name": "Python 3"
    },
    "language_info": {
      "name": "python"
    }
  },
  "cells": [
    {
      "cell_type": "code",
      "execution_count": null,
      "metadata": {
        "colab": {
          "base_uri": "https://localhost:8080/"
        },
        "id": "Dp9fkvHH2cHX",
        "outputId": "589c44e3-c9c2-4a67-a5ba-e8c442d616b6"
      },
      "outputs": [
        {
          "output_type": "stream",
          "name": "stdout",
          "text": [
            "divide two numbers\n",
            "enter first number: 2\n",
            "enter number to divide by: 3\n",
            "the answer is:  0\n"
          ]
        }
      ],
      "source": [
        "## Good (efficient, non-Spaghetti) code example.\n",
        "import time\n",
        "\n",
        "print('divide two numbers')\n",
        "\n",
        "## get the user to enter in some integers\n",
        "x=int(input('enter first number: '))\n",
        "y=int(input('enter number to divide by: '))\n",
        "print('the answer is: ',int(x/y)),\n",
        "\n",
        "## delay of a few seconds before closing\n",
        "time.sleep(3)"
      ]
    },
    {
      "cell_type": "code",
      "source": [
        "## Spaghetti code example.\n",
        "import time\n",
        "\n",
        "letters = \"Get in, we're going dividing!\"\n",
        "n1=\"type first number: \"\n",
        "n2=\"type second number to divide by: \"\n",
        "print(letters)\n",
        "\n",
        "a=float(input(n1))\n",
        "b=float(input(n2))\n",
        "add_used = 0\n",
        "\n",
        "## define add\n",
        "def add(a, b):\n",
        "    global add_used\n",
        "    add_used += 1\n",
        "    return a + b\n",
        "\n",
        "## this just \"works\"! Perhaps only once.\n",
        "def divide(a, b):\n",
        "    quotient = 0\n",
        "    c = 0\n",
        "    d = 0\n",
        "    while add(d, b) <= a:\n",
        "        c = add(c, 1)\n",
        "        d = add(d, b)\n",
        "    return c\n",
        "\n",
        "print(\"the answer is: \",divide(a, b))\n",
        "time.sleep(3)"
      ],
      "metadata": {
        "colab": {
          "base_uri": "https://localhost:8080/"
        },
        "id": "NSG84YK92qDJ",
        "outputId": "6c64a68f-1c04-4c60-bdbf-6f63d7387b6f"
      },
      "execution_count": 1,
      "outputs": [
        {
          "output_type": "stream",
          "name": "stdout",
          "text": [
            "Get in, we're going dividing!\n",
            "type first number: 8\n",
            "type second number to divide by: 3\n",
            "the answer is:  2\n"
          ]
        }
      ]
    },
    {
      "cell_type": "code",
      "source": [
        "## Spaghettify example.\n",
        "def neighbors(arr, x, y, n):\n",
        "    result = []\n",
        "    row_start = max(0, x-n)\n",
        "    row_end = min(len(arr)-1, x+n)\n",
        "    col_start = max(0, y-n)\n",
        "    col_end = min(len(arr[0])-1, y+n)\n",
        "    for i in range(row_start, row_end+1):\n",
        "        for j in range(col_start, col_end+1):\n",
        "            result.append((i, j))\n",
        "    return result"
      ],
      "metadata": {
        "id": "rTaqkynw2883"
      },
      "execution_count": null,
      "outputs": []
    },
    {
      "cell_type": "code",
      "source": [
        "## Nested for loop example in Python: Multiplication table.\n",
        "for i in range(1, 6):  ## Outer loop\n",
        "    for j in range(1, 6):  ## Inner loop\n",
        "        print(f\"{i} x {j} = {i * j}\", end=\"\\t\")  ## Print multiplication result\n",
        "    print()  ## Newline after each row"
      ],
      "metadata": {
        "colab": {
          "base_uri": "https://localhost:8080/"
        },
        "id": "vT0-M3ha_KoZ",
        "outputId": "837e780d-3986-4a99-df22-83150e75e40c"
      },
      "execution_count": null,
      "outputs": [
        {
          "output_type": "stream",
          "name": "stdout",
          "text": [
            "1 x 1 = 1\t1 x 2 = 2\t1 x 3 = 3\t1 x 4 = 4\t1 x 5 = 5\t\n",
            "2 x 1 = 2\t2 x 2 = 4\t2 x 3 = 6\t2 x 4 = 8\t2 x 5 = 10\t\n",
            "3 x 1 = 3\t3 x 2 = 6\t3 x 3 = 9\t3 x 4 = 12\t3 x 5 = 15\t\n",
            "4 x 1 = 4\t4 x 2 = 8\t4 x 3 = 12\t4 x 4 = 16\t4 x 5 = 20\t\n",
            "5 x 1 = 5\t5 x 2 = 10\t5 x 3 = 15\t5 x 4 = 20\t5 x 5 = 25\t\n"
          ]
        }
      ]
    },
    {
      "cell_type": "code",
      "source": [
        "## Hash table example in Python: Name, Age, and City.\n",
        "hash_table = {}\n",
        "\n",
        "## Adding key-value pairs\n",
        "hash_table[\"name\"] = \"Bradly\"\n",
        "hash_table[\"age\"] = 51\n",
        "hash_table[\"city\"] = \"Urbana\"\n",
        "\n",
        "print(\"Name:\", hash_table[\"name\"])\n",
        "print(\"Age:\", hash_table[\"age\"])\n",
        "print(\"City:\", hash_table[\"city\"])"
      ],
      "metadata": {
        "colab": {
          "base_uri": "https://localhost:8080/"
        },
        "id": "7xuDn7LJ_opm",
        "outputId": "3018df12-c69e-4e64-92bb-0ea2eb45bebc"
      },
      "execution_count": null,
      "outputs": [
        {
          "output_type": "stream",
          "name": "stdout",
          "text": [
            "Name: Bradly\n",
            "Age: 51\n",
            "City: Urbana\n"
          ]
        }
      ]
    },
    {
      "cell_type": "code",
      "source": [
        "## Deeply nested loop in Python.\n",
        "def process_data(data):\n",
        "    for item in data:\n",
        "        if item.is_valid():\n",
        "            for sub_item in item.sub_items:\n",
        "                if sub_item.needs_processing():\n",
        "                    for value in sub_item.values:\n",
        "                        if value > 10:\n",
        "                            result = value * 2\n",
        "                            print(f\"Processed value: {result}\")"
      ],
      "metadata": {
        "id": "8nVXJsiX5kQO"
      },
      "execution_count": null,
      "outputs": []
    },
    {
      "cell_type": "code",
      "source": [
        "## Convoluted conditional in Python.\n",
        "def calculate_discount(price, customer_type, is_holiday):\n",
        "    if customer_type == 'regular':\n",
        "        if is_holiday:\n",
        "            discount = 0.1\n",
        "        else:\n",
        "            if price > 100:\n",
        "                discount = 0.05\n",
        "            else:\n",
        "                discount = 0.02\n",
        "    elif customer_type == 'member':\n",
        "        if is_holiday:\n",
        "            discount = 0.15\n",
        "        else:\n",
        "            discount = 0.1\n",
        "    else:\n",
        "        discount = 0\n",
        "    return price * (1 - discount)"
      ],
      "metadata": {
        "id": "L8S6TQMM5xVo"
      },
      "execution_count": null,
      "outputs": []
    },
    {
      "cell_type": "code",
      "source": [
        "## Adapter pattern.\n",
        "class Target:\n",
        "    def request(self) -> str:\n",
        "        return \"Target: The default target's behavior.\"\n",
        "\n",
        "class Adaptee:\n",
        "    def specific_request(self) -> str:\n",
        "        return \".eetpadA eht fo roivaheb laicepS\"\n",
        "\n",
        "\n",
        "class Adapter(Target, Adaptee):\n",
        "    def request(self) -> str:\n",
        "        return f\"Adapter: (TRANSLATED) {self.specific_request()[::-1]}\"\n",
        "\n",
        "def client_code(target: \"Target\") -> None:\n",
        "    print(target.request(), end=\"\")\n",
        "\n",
        "if __name__ == \"__main__\":\n",
        "    print(\"Client: I can work just fine with the Target objects:\")\n",
        "    target = Target()\n",
        "    client_code(target)\n",
        "    print(\"\\n\")\n",
        "\n",
        "    adaptee = Adaptee()\n",
        "    print(\"Client: The Adaptee class has a weird interface. \"\n",
        "          \"See, I don't understand it:\")\n",
        "    print(f\"Adaptee: {adaptee.specific_request()}\", end=\"\\n\\n\")\n",
        "\n",
        "    print(\"Client: But I can work with it via the Adapter:\")\n",
        "    adapter = Adapter()\n",
        "    client_code(adapter)"
      ],
      "metadata": {
        "colab": {
          "base_uri": "https://localhost:8080/"
        },
        "id": "svglgaUS58rk",
        "outputId": "ab4f2395-b610-4a82-8559-a00894acb546"
      },
      "execution_count": null,
      "outputs": [
        {
          "output_type": "stream",
          "name": "stdout",
          "text": [
            "Client: I can work just fine with the Target objects:\n",
            "Target: The default target's behavior.\n",
            "\n",
            "Client: The Adaptee class has a weird interface. See, I don't understand it:\n",
            "Adaptee: .eetpadA eht fo roivaheb laicepS\n",
            "\n",
            "Client: But I can work with it via the Adapter:\n",
            "Adapter: (TRANSLATED) Special behavior of the Adaptee."
          ]
        }
      ]
    },
    {
      "cell_type": "code",
      "source": [
        "## Decorator pattern\n",
        "class Component():\n",
        "    def operation(self) -> str:\n",
        "        pass\n",
        "class ConcreteComponent(Component):\n",
        "    def operation(self) -> str:\n",
        "        return \"ConcreteComponent\"\n",
        "class Decorator(Component):\n",
        "    _component: Component = None\n",
        "    def __init__(self, component: Component) -> None:\n",
        "        self._component = component\n",
        "    @property\n",
        "    def component(self) -> Component:\n",
        "        return self._component\n",
        "    def operation(self) -> str:\n",
        "        return self._component.operation()\n",
        "class ConcreteDecoratorA(Decorator):\n",
        "    def operation(self) -> str:\n",
        "        return f\"ConcreteDecoratorA({self.component.operation()})\"\n",
        "class ConcreteDecoratorB(Decorator):\n",
        "    def operation(self) -> str:\n",
        "        return f\"ConcreteDecoratorB({self.component.operation()})\"\n",
        "def client_code(component: Component) -> None:\n",
        "    print(f\"RESULT: {component.operation()}\", end=\"\")\n",
        "if __name__ == \"__main__\":\n",
        "    simple = ConcreteComponent()\n",
        "    print(\"Client: I've got a simple component:\")\n",
        "    client_code(simple)\n",
        "    print(\"\\n\")\n",
        "    decorator1 = ConcreteDecoratorA(simple)\n",
        "    decorator2 = ConcreteDecoratorB(decorator1)\n",
        "    print(\"Client: Now I've got a decorated component:\")\n",
        "    client_code(decorator2)"
      ],
      "metadata": {
        "colab": {
          "base_uri": "https://localhost:8080/"
        },
        "id": "-EgJRJHA6lh3",
        "outputId": "a601c612-045f-4ea6-c81c-0acb20afc6ea"
      },
      "execution_count": null,
      "outputs": [
        {
          "output_type": "stream",
          "name": "stdout",
          "text": [
            "Client: I've got a simple component:\n",
            "RESULT: ConcreteComponent\n",
            "\n",
            "Client: Now I've got a decorated component:\n",
            "RESULT: ConcreteDecoratorB(ConcreteDecoratorA(ConcreteComponent))"
          ]
        }
      ]
    },
    {
      "cell_type": "code",
      "source": [],
      "metadata": {
        "id": "EPs5xPCg6DXg"
      },
      "execution_count": null,
      "outputs": []
    }
  ]
}